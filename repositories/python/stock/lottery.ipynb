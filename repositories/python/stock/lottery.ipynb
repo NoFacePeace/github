{
 "cells": [
  {
   "cell_type": "code",
   "execution_count": 9,
   "metadata": {},
   "outputs": [
    {
     "data": {
      "text/plain": [
       "1733"
      ]
     },
     "execution_count": 9,
     "metadata": {},
     "output_type": "execute_result"
    }
   ],
   "source": [
    "import json\n",
    "f = open('lottery.json')\n",
    "data = json.load(f)\n",
    "f.close()\n",
    "result = data['result']\n",
    "len(result)\n",
    "\n"
   ]
  },
  {
   "cell_type": "code",
   "execution_count": 13,
   "metadata": {},
   "outputs": [
    {
     "data": {
      "text/plain": [
       "{'08': 110,\n",
       " '15': 120,\n",
       " '01': 125,\n",
       " '07': 120,\n",
       " '06': 115,\n",
       " '14': 110,\n",
       " '05': 98,\n",
       " '03': 104,\n",
       " '13': 93,\n",
       " '04': 111,\n",
       " '16': 120,\n",
       " '02': 100,\n",
       " '11': 97,\n",
       " '10': 94,\n",
       " '09': 101,\n",
       " '12': 115}"
      ]
     },
     "execution_count": 13,
     "metadata": {},
     "output_type": "execute_result"
    }
   ],
   "source": [
    "blue = {}\n",
    "for i in result:\n",
    "    if i['blue'] not in blue:\n",
    "        blue[i['blue']] = 1\n",
    "    else:\n",
    "        blue[i['blue']] += 1\n",
    "blue"
   ]
  },
  {
   "cell_type": "code",
   "execution_count": 14,
   "metadata": {},
   "outputs": [
    {
     "data": {
      "text/plain": [
       "{'01': 341,\n",
       " '04': 294,\n",
       " '06': 358,\n",
       " '14': 364,\n",
       " '17': 331,\n",
       " '22': 354,\n",
       " '03': 285,\n",
       " '24': 299,\n",
       " '27': 328,\n",
       " '29': 291,\n",
       " '32': 326,\n",
       " '05': 301,\n",
       " '08': 317,\n",
       " '18': 321,\n",
       " '28': 289,\n",
       " '07': 324,\n",
       " '10': 327,\n",
       " '09': 339,\n",
       " '12': 314,\n",
       " '30': 280,\n",
       " '20': 330,\n",
       " '21': 280,\n",
       " '23': 303,\n",
       " '02': 332,\n",
       " '19': 334,\n",
       " '31': 300,\n",
       " '13': 300,\n",
       " '11': 299,\n",
       " '25': 306,\n",
       " '26': 335,\n",
       " '16': 293,\n",
       " '33': 287,\n",
       " '15': 316}"
      ]
     },
     "execution_count": 14,
     "metadata": {},
     "output_type": "execute_result"
    }
   ],
   "source": [
    "red = {}\n",
    "for i in result:\n",
    "    arr = i['red'].split(',')\n",
    "    for j in arr:\n",
    "        if j not in red:\n",
    "            red[j] = 1\n",
    "        else:\n",
    "            red[j] += 1\n",
    "red"
   ]
  }
 ],
 "metadata": {
  "kernelspec": {
   "display_name": ".venv",
   "language": "python",
   "name": "python3"
  },
  "language_info": {
   "codemirror_mode": {
    "name": "ipython",
    "version": 3
   },
   "file_extension": ".py",
   "mimetype": "text/x-python",
   "name": "python",
   "nbconvert_exporter": "python",
   "pygments_lexer": "ipython3",
   "version": "3.12.3"
  }
 },
 "nbformat": 4,
 "nbformat_minor": 2
}
